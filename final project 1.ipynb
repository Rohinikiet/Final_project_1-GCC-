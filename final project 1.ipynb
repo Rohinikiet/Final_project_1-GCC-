{
 "cells": [
  {
   "cell_type": "code",
   "execution_count": 1,
   "id": "657e0174",
   "metadata": {},
   "outputs": [
    {
     "name": "stdout",
     "output_type": "stream",
     "text": [
      "Collecting tk\n",
      "  Downloading tk-0.1.0-py3-none-any.whl (3.9 kB)\n",
      "Installing collected packages: tk\n",
      "Successfully installed tk-0.1.0\n",
      "Note: you may need to restart the kernel to use updated packages.\n"
     ]
    }
   ],
   "source": [
    "pip install tk"
   ]
  },
  {
   "cell_type": "code",
   "execution_count": 2,
   "id": "d84ac745",
   "metadata": {},
   "outputs": [
    {
     "name": "stdout",
     "output_type": "stream",
     "text": [
      "Requirement already satisfied: matplotlib in c:\\users\\rohini\\anaconda3\\lib\\site-packages (3.4.3)Note: you may need to restart the kernel to use updated packages.\n",
      "Requirement already satisfied: cycler>=0.10 in c:\\users\\rohini\\anaconda3\\lib\\site-packages (from matplotlib) (0.10.0)\n",
      "Requirement already satisfied: kiwisolver>=1.0.1 in c:\\users\\rohini\\anaconda3\\lib\\site-packages (from matplotlib) (1.3.1)\n",
      "Requirement already satisfied: pyparsing>=2.2.1 in c:\\users\\rohini\\anaconda3\\lib\\site-packages (from matplotlib) (3.0.4)\n",
      "Requirement already satisfied: python-dateutil>=2.7 in c:\\users\\rohini\\anaconda3\\lib\\site-packages (from matplotlib) (2.8.2)\n",
      "Requirement already satisfied: pillow>=6.2.0 in c:\\users\\rohini\\anaconda3\\lib\\site-packages (from matplotlib) (8.4.0)\n",
      "Requirement already satisfied: numpy>=1.16 in c:\\users\\rohini\\anaconda3\\lib\\site-packages (from matplotlib) (1.20.3)\n",
      "Requirement already satisfied: six in c:\\users\\rohini\\anaconda3\\lib\\site-packages (from cycler>=0.10->matplotlib) (1.16.0)\n",
      "\n"
     ]
    }
   ],
   "source": [
    "pip install matplotlib"
   ]
  },
  {
   "cell_type": "code",
   "execution_count": 1,
   "id": "649bd32b",
   "metadata": {},
   "outputs": [
    {
     "data": {
      "image/png": "[encoded data removed]",
      "text/plain": [
       "<Figure size 432x288 with 1 Axes>"
      ]
     },
     "metadata": {
      "needs_background": "light"
     },
     "output_type": "display_data"
    },
    {
     "data": {
      "image/png": "[encoded data removed]",
      "text/plain": [
       "<Figure size 432x288 with 1 Axes>"
      ]
     },
     "metadata": {
      "needs_background": "light"
     },
     "output_type": "display_data"
    }
   ],
   "source": [
    "import tkinter as tk\n",
    "from tkinter import messagebox, colorchooser\n",
    "import matplotlib.pyplot as plt\n",
    "import numpy as np\n",
    "\n",
    "def plot_graph():\n",
    "    try:\n",
    "        x_min = float(x_min_entry.get())\n",
    "        x_max = float(x_max_entry.get())\n",
    "        function = function_entry.get()\n",
    "\n",
    "        x = np.linspace(x_min, x_max, 1000)\n",
    "        y = eval(function)\n",
    "\n",
    "        plt.plot(x, y, label=function, color=color_var.get())\n",
    "        plt.xlabel(\"x\")\n",
    "        plt.ylabel(\"y\")\n",
    "        plt.title(\"Graph Plot\")\n",
    "        \n",
    "        if grid_var.get():\n",
    "            plt.grid(True)\n",
    "\n",
    "        if legend_var.get():\n",
    "            plt.legend()\n",
    "\n",
    "        plt.show()\n",
    "\n",
    "    except ValueError:\n",
    "        messagebox.showerror(\"Error\", \"Invalid input for x_min and/or x_max.\")\n",
    "    except Exception as e:\n",
    "        messagebox.showerror(\"Error\", str(e))\n",
    "\n",
    "def choose_color():\n",
    "    color_code = colorchooser.askcolor(title=\"Choose Color\")\n",
    "    if color_code[1]:\n",
    "        color_var.set(color_code[1])\n",
    "\n",
    "# Create the main application window\n",
    "app = tk.Tk()\n",
    "app.title(\"Graph Plotter\")\n",
    "\n",
    "# Create input labels and entries\n",
    "x_min_label = tk.Label(app, text=\"Enter x_min:\")\n",
    "x_min_label.pack()\n",
    "\n",
    "x_min_entry = tk.Entry(app)\n",
    "x_min_entry.pack()\n",
    "\n",
    "x_max_label = tk.Label(app, text=\"Enter x_max:\")\n",
    "x_max_label.pack()\n",
    "\n",
    "x_max_entry = tk.Entry(app)\n",
    "x_max_entry.pack()\n",
    "\n",
    "function_label = tk.Label(app, text=\"Enter the function (e.g., 'x**2 + 3*x - 5'):\")\n",
    "function_label.pack()\n",
    "\n",
    "function_entry = tk.Entry(app)\n",
    "function_entry.pack()\n",
    "\n",
    "# Color selection\n",
    "color_var = tk.StringVar()\n",
    "color_var.set('b')  # Default color is blue\n",
    "color_button = tk.Button(app, text=\"Select Color\", command=choose_color)\n",
    "color_button.pack()\n",
    "\n",
    "# Grid and Legend options\n",
    "grid_var = tk.BooleanVar()\n",
    "grid_checkbutton = tk.Checkbutton(app, text=\"Show Grid\", variable=grid_var)\n",
    "grid_checkbutton.pack()\n",
    "\n",
    "legend_var = tk.BooleanVar()\n",
    "legend_checkbutton = tk.Checkbutton(app, text=\"Show Legend\", variable=legend_var)\n",
    "legend_checkbutton.pack()\n",
    "\n",
    "# Create the \"Plot\" button\n",
    "plot_button = tk.Button(app, text=\"Plot\", command=plot_graph)\n",
    "plot_button.pack()\n",
    "\n",
    "# Start the main loop\n",
    "app.mainloop()\n"
   ]
  },
  {
   "cell_type": "code",
   "execution_count": null,
   "id": "9d3d3502",
   "metadata": {},
   "outputs": [],
   "source": []
  },
  {
   "cell_type": "code",
   "execution_count": null,
   "id": "99e8676d",
   "metadata": {},
   "outputs": [],
   "source": []
  },
  {
   "cell_type": "code",
   "execution_count": null,
   "id": "d8413fcc",
   "metadata": {},
   "outputs": [],
   "source": []
  },
  {
   "cell_type": "code",
   "execution_count": null,
   "id": "d51b42ed",
   "metadata": {},
   "outputs": [],
   "source": []
  },
  {
   "cell_type": "code",
   "execution_count": null,
   "id": "82c3ba98",
   "metadata": {},
   "outputs": [],
   "source": []
  }
 ],
 "metadata": {
  "kernelspec": {
   "display_name": "Python 3 (ipykernel)",
   "language": "python",
   "name": "python3"
  },
  "language_info": {
   "codemirror_mode": {
    "name": "ipython",
    "version": 3
   },
   "file_extension": ".py",
   "mimetype": "text/x-python",
   "name": "python",
   "nbconvert_exporter": "python",
   "pygments_lexer": "ipython3",
   "version": "3.9.7"
  }
 },
 "nbformat": 4,
 "nbformat_minor": 5
}
